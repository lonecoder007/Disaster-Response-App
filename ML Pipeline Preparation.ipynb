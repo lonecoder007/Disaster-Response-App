{
 "cells": [
  {
   "cell_type": "markdown",
   "metadata": {},
   "source": [
    "# ML Pipeline Preparation\n",
    "Follow the instructions below to help you create your ML pipeline.\n",
    "### 1. Import libraries and load data from database.\n",
    "- Import Python libraries\n",
    "- Load dataset from database with [`read_sql_table`](https://pandas.pydata.org/pandas-docs/stable/generated/pandas.read_sql_table.html)\n",
    "- Define feature and target variables X and Y"
   ]
  },
  {
   "cell_type": "code",
   "execution_count": 14,
   "metadata": {},
   "outputs": [
    {
     "name": "stdout",
     "output_type": "stream",
     "text": [
      "[nltk_data] Downloading package punkt to /root/nltk_data...\n",
      "[nltk_data]   Package punkt is already up-to-date!\n",
      "[nltk_data] Downloading package stopwords to /root/nltk_data...\n",
      "[nltk_data]   Package stopwords is already up-to-date!\n",
      "[nltk_data] Downloading package wordnet to /root/nltk_data...\n",
      "[nltk_data]   Package wordnet is already up-to-date!\n"
     ]
    },
    {
     "data": {
      "text/plain": [
       "True"
      ]
     },
     "execution_count": 14,
     "metadata": {},
     "output_type": "execute_result"
    }
   ],
   "source": [
    "#import libraries\n",
    "import sys\n",
    "import numpy as np\n",
    "import pandas as pd\n",
    "import nltk\n",
    "from sqlalchemy import create_engine\n",
    "import re\n",
    "from nltk.corpus import stopwords\n",
    "from nltk.tokenize import word_tokenize\n",
    "from nltk.stem.wordnet import WordNetLemmatizer\n",
    "from sklearn.feature_extraction.text import CountVectorizer,TfidfTransformer\n",
    "from sklearn.multioutput import MultiOutputClassifier\n",
    "from sklearn.pipeline import Pipeline\n",
    "from sklearn.ensemble import RandomForestClassifier,AdaBoostClassifier\n",
    "from sklearn.model_selection import train_test_split,GridSearchCV\n",
    "from sklearn.metrics import classification_report,f1_score\n",
    "import pickle\n",
    "\n",
    "nltk.download('punkt')\n",
    "nltk.download('stopwords')\n",
    "nltk.download('wordnet')\n"
   ]
  },
  {
   "cell_type": "code",
   "execution_count": 9,
   "metadata": {},
   "outputs": [],
   "source": [
    "# load data from database\n",
    "engine = create_engine('sqlite:///DisasterResponse.db')\n",
    "df =pd.read_sql_table('DisasterResponse',engine)\n",
    "X = df['message']\n",
    "Y = df.iloc[:,4:]"
   ]
  },
  {
   "cell_type": "markdown",
   "metadata": {},
   "source": [
    "### 2. Write a tokenization function to process your text data"
   ]
  },
  {
   "cell_type": "code",
   "execution_count": 11,
   "metadata": {},
   "outputs": [],
   "source": [
    "def tokenize(text):\n",
    "     # replace url from the data with 'urlplaceholder' \n",
    "    url_regex = 'http[s]?://(?:[a-zA-Z]|[0-9]|[$-_@.&+]|[!*\\(\\),]|(?:%[0-9a-fA-F][0-9a-fA-F]))+'\n",
    "    detected_urls = re.findall(url_regex, text)\n",
    "    for url in detected_urls:\n",
    "        text = text.replace(url, \"urlplaceholder\")\n",
    "    #converting sentence to individual words\n",
    "    words=word_tokenize(text.lower())\n",
    "    # lemmatize the words\n",
    "    lemi=WordNetLemmatizer()\n",
    "    words=[lemi.lemmatize(word) for word in words]\n",
    "    return words"
   ]
  },
  {
   "cell_type": "markdown",
   "metadata": {},
   "source": [
    "### 3. Build a machine learning pipeline\n",
    "This machine pipeline should take in the `message` column as input and output classification results on the other 36 categories in the dataset. You may find the [MultiOutputClassifier](http://scikit-learn.org/stable/modules/generated/sklearn.multioutput.MultiOutputClassifier.html) helpful for predicting multiple target variables."
   ]
  },
  {
   "cell_type": "code",
   "execution_count": 15,
   "metadata": {},
   "outputs": [],
   "source": [
    "pipeline1 = Pipeline([\n",
    "    ('vect',CountVectorizer(tokenizer=tokenize)),\n",
    "    ('tfidf',TfidfTransformer()),\n",
    "    ('clf',MultiOutputClassifier(RandomForestClassifier()))\n",
    "])\n",
    "pipeline2 = Pipeline([\n",
    "    ('vect',CountVectorizer(tokenizer=tokenize)),\n",
    "    ('tfidf',TfidfTransformer()),\n",
    "    ('clf',MultiOutputClassifier(AdaBoostClassifier()))\n",
    "])"
   ]
  },
  {
   "cell_type": "markdown",
   "metadata": {},
   "source": [
    "### 4. Train pipeline\n",
    "- Split data into train and test sets\n",
    "- Train pipeline"
   ]
  },
  {
   "cell_type": "code",
   "execution_count": 18,
   "metadata": {},
   "outputs": [
    {
     "data": {
      "text/plain": [
       "Pipeline(memory=None,\n",
       "     steps=[('vect', CountVectorizer(analyzer='word', binary=False, decode_error='strict',\n",
       "        dtype=<class 'numpy.int64'>, encoding='utf-8', input='content',\n",
       "        lowercase=True, max_df=1.0, max_features=None, min_df=1,\n",
       "        ngram_range=(1, 1), preprocessor=None, stop_words=None,\n",
       "        strip...mator=None,\n",
       "          learning_rate=1.0, n_estimators=50, random_state=None),\n",
       "           n_jobs=1))])"
      ]
     },
     "execution_count": 18,
     "metadata": {},
     "output_type": "execute_result"
    }
   ],
   "source": [
    "x_train,x_test,y_train,y_test=train_test_split(X,Y,random_state=5,shuffle=True)\n",
    "pipeline1.fit(x_train,y_train)\n",
    "pipeline2.fit(x_train,y_train)"
   ]
  },
  {
   "cell_type": "markdown",
   "metadata": {},
   "source": [
    "### 5. Test your model\n",
    "Report the f1 score, precision and recall for each output category of the dataset. You can do this by iterating through the columns and calling sklearn's `classification_report` on each."
   ]
  },
  {
   "cell_type": "code",
   "execution_count": 19,
   "metadata": {},
   "outputs": [],
   "source": [
    "y_pred1=pipeline1.predict(x_test)\n",
    "y_pred2=pipeline2.predict(x_test)"
   ]
  },
  {
   "cell_type": "code",
   "execution_count": 21,
   "metadata": {},
   "outputs": [
    {
     "name": "stdout",
     "output_type": "stream",
     "text": [
      "                        precision    recall  f1-score   support\n",
      "\n",
      "               related       1.00      1.00      1.00      3690\n",
      "               request       0.85      0.69      0.76      1150\n",
      "                 offer       0.00      0.00      0.00        26\n",
      "           aid_related       0.83      0.91      0.87      2730\n",
      "          medical_help       0.74      0.31      0.44       499\n",
      "      medical_products       0.87      0.20      0.33       335\n",
      "     search_and_rescue       0.63      0.14      0.22       162\n",
      "              security       0.20      0.01      0.02       119\n",
      "              military       0.83      0.32      0.46       223\n",
      "           child_alone       0.00      0.00      0.00         0\n",
      "                 water       0.88      0.50      0.64       387\n",
      "                  food       0.91      0.58      0.71       759\n",
      "               shelter       0.88      0.45      0.60       589\n",
      "              clothing       0.79      0.22      0.34       100\n",
      "                 money       0.67      0.06      0.12       155\n",
      "        missing_people       0.33      0.01      0.02        90\n",
      "              refugees       0.58      0.06      0.11       225\n",
      "                 death       0.77      0.25      0.38       301\n",
      "             other_aid       0.58      0.11      0.18       875\n",
      "infrastructure_related       0.50      0.03      0.05       433\n",
      "             transport       0.66      0.14      0.24       265\n",
      "             buildings       0.78      0.14      0.24       354\n",
      "           electricity       0.74      0.17      0.27       138\n",
      "                 tools       0.00      0.00      0.00        39\n",
      "             hospitals       0.00      0.00      0.00        69\n",
      "                 shops       0.00      0.00      0.00        34\n",
      "           aid_centers       0.00      0.00      0.00        87\n",
      "  other_infrastructure       0.00      0.00      0.00       283\n",
      "       weather_related       0.86      0.73      0.79      1752\n",
      "                floods       0.90      0.40      0.55       502\n",
      "                 storm       0.86      0.54      0.66       598\n",
      "                  fire       0.88      0.23      0.37        64\n",
      "            earthquake       0.97      0.63      0.77       610\n",
      "                  cold       0.90      0.15      0.26       128\n",
      "         other_weather       0.73      0.13      0.21       350\n",
      "         direct_report       0.80      0.63      0.70      1300\n",
      "\n",
      "           avg / total       0.82      0.60      0.65     19421\n",
      "\n"
     ]
    },
    {
     "name": "stderr",
     "output_type": "stream",
     "text": [
      "/opt/conda/lib/python3.6/site-packages/sklearn/metrics/classification.py:1428: UserWarning: labels size, 2, does not match size of target_names, 36\n",
      "  .format(len(labels), len(target_names))\n",
      "/opt/conda/lib/python3.6/site-packages/sklearn/metrics/classification.py:1135: UndefinedMetricWarning: Precision and F-score are ill-defined and being set to 0.0 in labels with no predicted samples.\n",
      "  'precision', 'predicted', average, warn_for)\n",
      "/opt/conda/lib/python3.6/site-packages/sklearn/metrics/classification.py:1137: UndefinedMetricWarning: Recall and F-score are ill-defined and being set to 0.0 in labels with no true samples.\n",
      "  'recall', 'true', average, warn_for)\n"
     ]
    }
   ],
   "source": [
    "print(classification_report(y_test.values,y_pred1,labels=[0,1],target_names=y_test.columns))"
   ]
  },
  {
   "cell_type": "code",
   "execution_count": 22,
   "metadata": {},
   "outputs": [
    {
     "name": "stdout",
     "output_type": "stream",
     "text": [
      "                        precision    recall  f1-score   support\n",
      "\n",
      "               related       1.00      1.00      1.00      3690\n",
      "               request       0.85      0.71      0.77      1150\n",
      "                 offer       0.00      0.00      0.00        26\n",
      "           aid_related       0.83      0.92      0.87      2730\n",
      "          medical_help       0.77      0.44      0.56       499\n",
      "      medical_products       0.74      0.37      0.49       335\n",
      "     search_and_rescue       0.55      0.21      0.30       162\n",
      "              security       0.31      0.08      0.12       119\n",
      "              military       0.78      0.48      0.60       223\n",
      "           child_alone       0.00      0.00      0.00         0\n",
      "                 water       0.82      0.76      0.79       387\n",
      "                  food       0.93      0.81      0.87       759\n",
      "               shelter       0.82      0.63      0.71       589\n",
      "              clothing       0.79      0.55      0.65       100\n",
      "                 money       0.80      0.46      0.59       155\n",
      "        missing_people       0.63      0.13      0.22        90\n",
      "              refugees       0.65      0.29      0.40       225\n",
      "                 death       0.80      0.54      0.65       301\n",
      "             other_aid       0.56      0.24      0.33       875\n",
      "infrastructure_related       0.49      0.11      0.18       433\n",
      "             transport       0.72      0.32      0.44       265\n",
      "             buildings       0.73      0.38      0.50       354\n",
      "           electricity       0.70      0.45      0.55       138\n",
      "                 tools       0.12      0.03      0.04        39\n",
      "             hospitals       0.36      0.12      0.18        69\n",
      "                 shops       0.14      0.03      0.05        34\n",
      "           aid_centers       0.42      0.11      0.18        87\n",
      "  other_infrastructure       0.45      0.11      0.17       283\n",
      "       weather_related       0.92      0.76      0.83      1752\n",
      "                floods       0.89      0.54      0.67       502\n",
      "                 storm       0.86      0.69      0.77       598\n",
      "                  fire       0.72      0.36      0.48        64\n",
      "            earthquake       0.96      0.77      0.85       610\n",
      "                  cold       0.67      0.39      0.49       128\n",
      "         other_weather       0.55      0.21      0.31       350\n",
      "         direct_report       0.82      0.68      0.74      1300\n",
      "\n",
      "           avg / total       0.82      0.68      0.73     19421\n",
      "\n"
     ]
    },
    {
     "name": "stderr",
     "output_type": "stream",
     "text": [
      "/opt/conda/lib/python3.6/site-packages/sklearn/metrics/classification.py:1428: UserWarning: labels size, 2, does not match size of target_names, 36\n",
      "  .format(len(labels), len(target_names))\n",
      "/opt/conda/lib/python3.6/site-packages/sklearn/metrics/classification.py:1135: UndefinedMetricWarning: Precision and F-score are ill-defined and being set to 0.0 in labels with no predicted samples.\n",
      "  'precision', 'predicted', average, warn_for)\n",
      "/opt/conda/lib/python3.6/site-packages/sklearn/metrics/classification.py:1137: UndefinedMetricWarning: Recall and F-score are ill-defined and being set to 0.0 in labels with no true samples.\n",
      "  'recall', 'true', average, warn_for)\n"
     ]
    }
   ],
   "source": [
    "print(classification_report(y_test.values,y_pred2,labels=[0,1],target_names=y_test.columns))"
   ]
  },
  {
   "cell_type": "code",
   "execution_count": null,
   "metadata": {},
   "outputs": [],
   "source": []
  },
  {
   "cell_type": "markdown",
   "metadata": {},
   "source": [
    "### 6. Improve your model\n",
    "Use grid search to find better parameters. "
   ]
  },
  {
   "cell_type": "code",
   "execution_count": 28,
   "metadata": {},
   "outputs": [],
   "source": [
    "parameters = {\n",
    "    'tfidf__sublinear_tf':[False,True],\n",
    "    'clf__estimator__n_estimators':[10,50,100],\n",
    "    'clf__estimator__learning_rate':[0.1,0.5,1],\n",
    "}\n",
    "\n",
    "cv = GridSearchCV(pipeline2,param_grid=parameters,n_jobs=4,cv=2)"
   ]
  },
  {
   "cell_type": "markdown",
   "metadata": {},
   "source": [
    "### 7. Test your model\n",
    "Show the accuracy, precision, and recall of the tuned model.  \n",
    "\n",
    "Since this project focuses on code quality, process, and  pipelines, there is no minimum performance metric needed to pass. However, make sure to fine tune your models for accuracy, precision and recall to make your project stand out - especially for your portfolio!"
   ]
  },
  {
   "cell_type": "code",
   "execution_count": 29,
   "metadata": {},
   "outputs": [
    {
     "data": {
      "text/plain": [
       "GridSearchCV(cv=2, error_score='raise',\n",
       "       estimator=Pipeline(memory=None,\n",
       "     steps=[('vect', CountVectorizer(analyzer='word', binary=False, decode_error='strict',\n",
       "        dtype=<class 'numpy.int64'>, encoding='utf-8', input='content',\n",
       "        lowercase=True, max_df=1.0, max_features=None, min_df=1,\n",
       "        ngram_range=(1, 1), preprocessor=None, stop_words=None,\n",
       "        strip...mator=None,\n",
       "          learning_rate=1.0, n_estimators=50, random_state=None),\n",
       "           n_jobs=1))]),\n",
       "       fit_params=None, iid=True, n_jobs=4,\n",
       "       param_grid={'tfidf__sublinear_tf': [False, True], 'clf__estimator__n_estimators': [10, 50, 100], 'clf__estimator__learning_rate': [0.1, 0.5, 1]},\n",
       "       pre_dispatch='2*n_jobs', refit=True, return_train_score='warn',\n",
       "       scoring=None, verbose=0)"
      ]
     },
     "execution_count": 29,
     "metadata": {},
     "output_type": "execute_result"
    }
   ],
   "source": [
    "cv.fit(x_train,y_train)"
   ]
  },
  {
   "cell_type": "code",
   "execution_count": 30,
   "metadata": {},
   "outputs": [],
   "source": [
    "ypred=cv.predict(x_test)"
   ]
  },
  {
   "cell_type": "code",
   "execution_count": 31,
   "metadata": {},
   "outputs": [
    {
     "name": "stdout",
     "output_type": "stream",
     "text": [
      "                        precision    recall  f1-score   support\n",
      "\n",
      "               related       1.00      1.00      1.00      3690\n",
      "               request       0.86      0.73      0.79      1150\n",
      "                 offer       0.00      0.00      0.00        26\n",
      "           aid_related       0.83      0.94      0.88      2730\n",
      "          medical_help       0.79      0.36      0.49       499\n",
      "      medical_products       0.79      0.32      0.46       335\n",
      "     search_and_rescue       0.62      0.17      0.27       162\n",
      "              security       0.27      0.03      0.06       119\n",
      "              military       0.82      0.43      0.56       223\n",
      "           child_alone       0.00      0.00      0.00         0\n",
      "                 water       0.83      0.80      0.81       387\n",
      "                  food       0.94      0.81      0.87       759\n",
      "               shelter       0.85      0.59      0.70       589\n",
      "              clothing       0.85      0.55      0.67       100\n",
      "                 money       0.86      0.43      0.57       155\n",
      "        missing_people       0.67      0.16      0.25        90\n",
      "              refugees       0.75      0.24      0.37       225\n",
      "                 death       0.82      0.44      0.57       301\n",
      "             other_aid       0.65      0.21      0.31       875\n",
      "infrastructure_related       0.65      0.08      0.15       433\n",
      "             transport       0.79      0.29      0.43       265\n",
      "             buildings       0.79      0.34      0.47       354\n",
      "           electricity       0.77      0.35      0.48       138\n",
      "                 tools       0.00      0.00      0.00        39\n",
      "             hospitals       0.40      0.09      0.14        69\n",
      "                 shops       0.00      0.00      0.00        34\n",
      "           aid_centers       0.50      0.08      0.14        87\n",
      "  other_infrastructure       0.45      0.05      0.09       283\n",
      "       weather_related       0.95      0.76      0.84      1752\n",
      "                floods       0.91      0.54      0.68       502\n",
      "                 storm       0.87      0.65      0.74       598\n",
      "                  fire       0.80      0.38      0.51        64\n",
      "            earthquake       0.98      0.77      0.86       610\n",
      "                  cold       0.73      0.31      0.44       128\n",
      "         other_weather       0.63      0.18      0.28       350\n",
      "         direct_report       0.83      0.68      0.75      1300\n",
      "\n",
      "           avg / total       0.85      0.67      0.72     19421\n",
      "\n"
     ]
    },
    {
     "name": "stderr",
     "output_type": "stream",
     "text": [
      "/opt/conda/lib/python3.6/site-packages/sklearn/metrics/classification.py:1428: UserWarning: labels size, 2, does not match size of target_names, 36\n",
      "  .format(len(labels), len(target_names))\n",
      "/opt/conda/lib/python3.6/site-packages/sklearn/metrics/classification.py:1135: UndefinedMetricWarning: Precision and F-score are ill-defined and being set to 0.0 in labels with no predicted samples.\n",
      "  'precision', 'predicted', average, warn_for)\n",
      "/opt/conda/lib/python3.6/site-packages/sklearn/metrics/classification.py:1137: UndefinedMetricWarning: Recall and F-score are ill-defined and being set to 0.0 in labels with no true samples.\n",
      "  'recall', 'true', average, warn_for)\n"
     ]
    }
   ],
   "source": [
    "print(classification_report(y_test.values,ypred,labels=[0,1],target_names=y_test.columns))"
   ]
  },
  {
   "cell_type": "code",
   "execution_count": 32,
   "metadata": {},
   "outputs": [
    {
     "data": {
      "text/plain": [
       "{'clf__estimator__learning_rate': 0.5,\n",
       " 'clf__estimator__n_estimators': 100,\n",
       " 'tfidf__sublinear_tf': False}"
      ]
     },
     "execution_count": 32,
     "metadata": {},
     "output_type": "execute_result"
    }
   ],
   "source": [
    "cv.best_params_"
   ]
  },
  {
   "cell_type": "code",
   "execution_count": 33,
   "metadata": {},
   "outputs": [
    {
     "data": {
      "text/plain": [
       "array([[1, 1, 0, 1, 0, 0, 0, 0, 0, 0, 0, 1, 1, 0, 0, 0, 0, 0, 0, 0, 0, 0,\n",
       "        0, 0, 0, 0, 0, 0, 0, 0, 0, 0, 0, 0, 0, 1]])"
      ]
     },
     "execution_count": 33,
     "metadata": {},
     "output_type": "execute_result"
    }
   ],
   "source": [
    "cv.predict(['we are more than 50 people on the street.please help us find food and tent'])"
   ]
  },
  {
   "cell_type": "markdown",
   "metadata": {},
   "source": [
    "### 8. Try improving your model further. Here are a few ideas:\n",
    "* try other machine learning algorithms\n",
    "* add other features besides the TF-IDF"
   ]
  },
  {
   "cell_type": "code",
   "execution_count": null,
   "metadata": {},
   "outputs": [],
   "source": []
  },
  {
   "cell_type": "markdown",
   "metadata": {},
   "source": [
    "### 9. Export your model as a pickle file"
   ]
  },
  {
   "cell_type": "code",
   "execution_count": null,
   "metadata": {},
   "outputs": [],
   "source": []
  },
  {
   "cell_type": "markdown",
   "metadata": {},
   "source": [
    "### 10. Use this notebook to complete `train.py`\n",
    "Use the template file attached in the Resources folder to write a script that runs the steps above to create a database and export a model based on a new dataset specified by the user."
   ]
  },
  {
   "cell_type": "code",
   "execution_count": null,
   "metadata": {},
   "outputs": [],
   "source": []
  }
 ],
 "metadata": {
  "kernelspec": {
   "display_name": "Python 3",
   "language": "python",
   "name": "python3"
  },
  "language_info": {
   "codemirror_mode": {
    "name": "ipython",
    "version": 3
   },
   "file_extension": ".py",
   "mimetype": "text/x-python",
   "name": "python",
   "nbconvert_exporter": "python",
   "pygments_lexer": "ipython3",
   "version": "3.6.3"
  }
 },
 "nbformat": 4,
 "nbformat_minor": 2
}
